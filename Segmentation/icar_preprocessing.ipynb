{
  "nbformat": 4,
  "nbformat_minor": 0,
  "metadata": {
    "colab": {
      "provenance": []
    },
    "kernelspec": {
      "name": "python3",
      "display_name": "Python 3"
    },
    "language_info": {
      "name": "python"
    }
  },
  "cells": [
    {
      "cell_type": "code",
      "source": [
        "from google.colab import drive\n",
        "drive.mount('/content/drive')"
      ],
      "metadata": {
        "colab": {
          "base_uri": "https://localhost:8080/"
        },
        "id": "TKf0tVg133t-",
        "outputId": "cd4a01a3-4475-4785-d737-dea0d94999c1"
      },
      "execution_count": 1,
      "outputs": [
        {
          "output_type": "stream",
          "name": "stdout",
          "text": [
            "Mounted at /content/drive\n"
          ]
        }
      ]
    },
    {
      "cell_type": "code",
      "execution_count": 4,
      "metadata": {
        "id": "w4kJiuJU184H"
      },
      "outputs": [],
      "source": [
        "!cp -r '/content/drive/MyDrive/Leaf Cropped Images' leaf_cropped_images "
      ]
    },
    {
      "cell_type": "code",
      "source": [
        "!tfds new leaf_classification"
      ],
      "metadata": {
        "colab": {
          "base_uri": "https://localhost:8080/"
        },
        "id": "TqKCtL6r4J4o",
        "outputId": "0dd5b3d6-00ce-47bd-f1b8-7daad8415c46"
      },
      "execution_count": 5,
      "outputs": [
        {
          "output_type": "stream",
          "name": "stdout",
          "text": [
            "2022-11-17 09:20:04.639830: E tensorflow/stream_executor/cuda/cuda_driver.cc:271] failed call to cuInit: CUDA_ERROR_NO_DEVICE: no CUDA-capable device is detected\n",
            "Dataset generated at /content/leaf_classification\n",
            "You can start searching `TODO(leaf_classification)` to complete the implementation.\n",
            "Please check https://www.tensorflow.org/datasets/add_dataset for additional details.\n"
          ]
        }
      ]
    },
    {
      "cell_type": "code",
      "source": [
        "!mkdir full"
      ],
      "metadata": {
        "id": "iZc0rpso61_w"
      },
      "execution_count": 12,
      "outputs": []
    },
    {
      "cell_type": "code",
      "source": [
        "!mv leaf_cropped_images full/leaf_cropped_images"
      ],
      "metadata": {
        "id": "_FnBc9H16JNa"
      },
      "execution_count": 13,
      "outputs": []
    },
    {
      "cell_type": "code",
      "source": [
        "import tensorflow_datasets as tfds\n",
        "builder = tfds.ImageFolder('full')\n",
        "print(builder.info)  # num examples, labels... are automatically calculated\n",
        "ds = builder.as_dataset(split='leaf_cropped_images', shuffle_files=True)\n",
        "# tfds.show_examples(ds, builder.info)"
      ],
      "metadata": {
        "colab": {
          "base_uri": "https://localhost:8080/"
        },
        "id": "na0gdXD14z4P",
        "outputId": "fa26d72b-0e00-48b2-c07d-021042fca0b9"
      },
      "execution_count": 14,
      "outputs": [
        {
          "output_type": "stream",
          "name": "stdout",
          "text": [
            "tfds.core.DatasetInfo(\n",
            "    name='image_folder',\n",
            "    full_name='image_folder/1.0.0',\n",
            "    description=\"\"\"\n",
            "    Generic image classification dataset.\n",
            "    \"\"\",\n",
            "    homepage='https://www.tensorflow.org/datasets/catalog/image_folder',\n",
            "    data_path='full',\n",
            "    file_format=tfrecord,\n",
            "    download_size=Unknown size,\n",
            "    dataset_size=Unknown size,\n",
            "    features=FeaturesDict({\n",
            "        'image': Image(shape=(None, None, 3), dtype=tf.uint8),\n",
            "        'image/filename': Text(shape=(), dtype=tf.string),\n",
            "        'label': ClassLabel(shape=(), dtype=tf.int64, num_classes=15),\n",
            "    }),\n",
            "    supervised_keys=('image', 'label'),\n",
            "    disable_shuffling=False,\n",
            "    splits={\n",
            "        'leaf_cropped_images': <SplitInfo num_examples=7585, num_shards=1>,\n",
            "    },\n",
            "    citation=\"\"\"\"\"\",\n",
            ")\n"
          ]
        }
      ]
    },
    {
      "cell_type": "code",
      "source": [
        "for data in ds:\n",
        "  print(data)\n",
        "  break"
      ],
      "metadata": {
        "colab": {
          "base_uri": "https://localhost:8080/"
        },
        "id": "nsxNq2uR52fh",
        "outputId": "d96f6221-6ca6-4b27-80d9-59f672f9c46f"
      },
      "execution_count": 15,
      "outputs": [
        {
          "output_type": "stream",
          "name": "stdout",
          "text": [
            "{'image': <tf.Tensor: shape=(1298, 1270, 3), dtype=uint8, numpy=\n",
            "array([[[ 84, 126, 106],\n",
            "        [ 84, 127, 108],\n",
            "        [ 83, 126, 107],\n",
            "        ...,\n",
            "        [137, 164, 145],\n",
            "        [138, 163, 144],\n",
            "        [139, 164, 143]],\n",
            "\n",
            "       [[ 84, 127, 107],\n",
            "        [ 83, 128, 107],\n",
            "        [ 81, 129, 107],\n",
            "        ...,\n",
            "        [138, 163, 144],\n",
            "        [137, 161, 145],\n",
            "        [141, 166, 147]],\n",
            "\n",
            "       [[ 84, 129, 109],\n",
            "        [ 83, 126, 106],\n",
            "        [ 83, 126, 107],\n",
            "        ...,\n",
            "        [139, 164, 145],\n",
            "        [142, 167, 148],\n",
            "        [142, 167, 146]],\n",
            "\n",
            "       ...,\n",
            "\n",
            "       [[ 85, 139, 107],\n",
            "        [ 86, 140, 108],\n",
            "        [ 85, 138, 108],\n",
            "        ...,\n",
            "        [129, 117,  91],\n",
            "        [129, 117,  93],\n",
            "        [128, 118,  93]],\n",
            "\n",
            "       [[ 87, 138, 107],\n",
            "        [ 86, 137, 104],\n",
            "        [ 87, 138, 107],\n",
            "        ...,\n",
            "        [129, 117,  95],\n",
            "        [129, 118,  96],\n",
            "        [126, 118,  95]],\n",
            "\n",
            "       [[ 86, 137, 106],\n",
            "        [ 85, 136, 103],\n",
            "        [ 87, 138, 107],\n",
            "        ...,\n",
            "        [129, 117,  95],\n",
            "        [129, 118,  96],\n",
            "        [126, 118,  95]]], dtype=uint8)>, 'image/filename': <tf.Tensor: shape=(), dtype=string, numpy=b'full/leaf_cropped_images/cropped_Thrips curling/DSC02358.JPG'>, 'label': <tf.Tensor: shape=(), dtype=int64, numpy=12>}\n"
          ]
        }
      ]
    },
    {
      "cell_type": "code",
      "source": [
        "pp = '/content/full/leaf_cropped_images/croped_Calcarious soil symptoms/'\n",
        "pp"
      ],
      "metadata": {
        "colab": {
          "base_uri": "https://localhost:8080/",
          "height": 36
        },
        "id": "9t_qDKx99n-8",
        "outputId": "115410bf-7159-45a6-fd07-61eed4f1ff7a"
      },
      "execution_count": 26,
      "outputs": [
        {
          "output_type": "execute_result",
          "data": {
            "text/plain": [
              "'/content/full/leaf_cropped_images/croped_Calcarious soil symptoms'"
            ],
            "application/vnd.google.colaboratory.intrinsic+json": {
              "type": "string"
            }
          },
          "metadata": {},
          "execution_count": 26
        }
      ]
    },
    {
      "cell_type": "code",
      "source": [
        "import os\n",
        "os.path.basename(os.path.normpath(pp))"
      ],
      "metadata": {
        "colab": {
          "base_uri": "https://localhost:8080/",
          "height": 36
        },
        "id": "6sIjWfTd9svW",
        "outputId": "4c7a9ea6-bd7d-4cd9-c6f9-9158154e9af9"
      },
      "execution_count": 27,
      "outputs": [
        {
          "output_type": "execute_result",
          "data": {
            "text/plain": [
              "'croped_Calcarious soil symptoms'"
            ],
            "application/vnd.google.colaboratory.intrinsic+json": {
              "type": "string"
            }
          },
          "metadata": {},
          "execution_count": 27
        }
      ]
    },
    {
      "cell_type": "code",
      "source": [
        "len(os.listdir('full/leaf_cropped_images'))"
      ],
      "metadata": {
        "colab": {
          "base_uri": "https://localhost:8080/"
        },
        "id": "nrmZTlq39wpk",
        "outputId": "f83280ef-79d7-4e5e-dc33-2ccb994bacfe"
      },
      "execution_count": 29,
      "outputs": [
        {
          "output_type": "execute_result",
          "data": {
            "text/plain": [
              "15"
            ]
          },
          "metadata": {},
          "execution_count": 29
        }
      ]
    },
    {
      "cell_type": "code",
      "source": [
        "cd .."
      ],
      "metadata": {
        "colab": {
          "base_uri": "https://localhost:8080/"
        },
        "id": "NXw32at_-L_v",
        "outputId": "dd9e9a3e-e423-4a2e-8259-38f068a3ad0f"
      },
      "execution_count": 185,
      "outputs": [
        {
          "output_type": "stream",
          "name": "stdout",
          "text": [
            "/\n"
          ]
        }
      ]
    },
    {
      "cell_type": "code",
      "source": [
        "cd leaf_classification"
      ],
      "metadata": {
        "colab": {
          "base_uri": "https://localhost:8080/"
        },
        "id": "mlW3_LWv_sKi",
        "outputId": "e2629394-22a5-4a0f-fa2c-56311b9a2106"
      },
      "execution_count": 186,
      "outputs": [
        {
          "output_type": "stream",
          "name": "stdout",
          "text": [
            "/content/leaf_classification\n"
          ]
        }
      ]
    },
    {
      "cell_type": "code",
      "source": [
        "!tfds build"
      ],
      "metadata": {
        "colab": {
          "base_uri": "https://localhost:8080/"
        },
        "id": "_mYJhLtt_vcA",
        "outputId": "524feb90-358f-4e23-bb6d-03722f2d7352"
      },
      "execution_count": 187,
      "outputs": [
        {
          "output_type": "stream",
          "name": "stdout",
          "text": [
            "2022-11-17 12:02:10.881395: E tensorflow/stream_executor/cuda/cuda_driver.cc:271] failed call to cuInit: CUDA_ERROR_NO_DEVICE: no CUDA-capable device is detected\n",
            "INFO[build.py]: Loading dataset  from path: /content/leaf_classification/leaf_classification.py\n",
            "2022-11-17 12:02:11.003191: W tensorflow/core/platform/cloud/google_auth_provider.cc:184] All attempts to get a Google authentication bearer token failed, returning an empty token. Retrieving token from files failed with \"NOT_FOUND: Could not locate the credentials file.\". Retrieving token from GCE failed with \"NOT_FOUND: Error executing an HTTP request: HTTP response code 404\".\n",
            "INFO[build.py]: download_and_prepare for dataset leaf_classification/1.0.0...\n",
            "INFO[dataset_builder.py]: Generating dataset leaf_classification (/root/tensorflow_datasets/leaf_classification/1.0.0)\n",
            "\u001b[1mDownloading and preparing dataset Unknown size (download: Unknown size, generated: Unknown size, total: Unknown size) to /root/tensorflow_datasets/leaf_classification/1.0.0...\u001b[0m\n",
            "Generating splits...:   0% 0/1 [00:00<?, ? splits/s]\n",
            "Generating leaf_cropped_images examples...: 0 examples [00:00, ? examples/s]\u001b[A\n",
            "Traceback (most recent call last):\n",
            "  File \"/usr/local/bin/tfds\", line 8, in <module>\n",
            "    sys.exit(launch_cli())\n",
            "  File \"/usr/local/lib/python3.7/dist-packages/tensorflow_datasets/scripts/cli/main.py\", line 102, in launch_cli\n",
            "    app.run(main, flags_parser=_parse_flags)\n",
            "  File \"/usr/local/lib/python3.7/dist-packages/absl/app.py\", line 308, in run\n",
            "    _run_main(main, args)\n",
            "  File \"/usr/local/lib/python3.7/dist-packages/absl/app.py\", line 254, in _run_main\n",
            "    sys.exit(main(argv))\n",
            "  File \"/usr/local/lib/python3.7/dist-packages/tensorflow_datasets/scripts/cli/main.py\", line 97, in main\n",
            "    args.subparser_fn(args)\n",
            "  File \"/usr/local/lib/python3.7/dist-packages/tensorflow_datasets/scripts/cli/build.py\", line 192, in _build_datasets\n",
            "    _download_and_prepare(args, builder)\n",
            "  File \"/usr/local/lib/python3.7/dist-packages/tensorflow_datasets/scripts/cli/build.py\", line 344, in _download_and_prepare\n",
            "    download_config=dl_config,\n",
            "  File \"/usr/local/lib/python3.7/dist-packages/tensorflow_datasets/core/dataset_builder.py\", line 483, in download_and_prepare\n",
            "    download_config=download_config,\n",
            "  File \"/usr/local/lib/python3.7/dist-packages/tensorflow_datasets/core/dataset_builder.py\", line 1222, in _download_and_prepare\n",
            "    disable_shuffling=self.info.disable_shuffling,\n",
            "  File \"/usr/local/lib/python3.7/dist-packages/tensorflow_datasets/core/split_builder.py\", line 310, in submit_split_generation\n",
            "    return self._build_from_generator(**build_kwargs)\n",
            "  File \"/usr/local/lib/python3.7/dist-packages/tensorflow_datasets/core/split_builder.py\", line 376, in _build_from_generator\n",
            "    leave=False,\n",
            "  File \"/usr/local/lib/python3.7/dist-packages/tqdm/std.py\", line 1195, in __iter__\n",
            "    for obj in iterable:\n",
            "  File \"/content/leaf_classification/leaf_classification.py\", line 86, in _generate_examples\n",
            "    im.save(out_path, \"JPEG\")\n",
            "  File \"/usr/local/lib/python3.7/dist-packages/PIL/Image.py\", line 2131, in save\n",
            "    fp = builtins.open(filename, \"w+b\")\n",
            "OSError: [Errno 30] Read-only file system: 'full/leaf_cropped_images/croped_Calcarious soil symptoms/resized_IMG_20191127_122622_1.jpg'\n"
          ]
        }
      ]
    },
    {
      "cell_type": "code",
      "source": [
        "cd  /root/tensorflow_datasets/leaf_classification/"
      ],
      "metadata": {
        "colab": {
          "base_uri": "https://localhost:8080/"
        },
        "id": "O9ZzJc9AIcs9",
        "outputId": "62ab667d-d5ed-4671-cbae-5ef0635944b2"
      },
      "execution_count": 176,
      "outputs": [
        {
          "output_type": "stream",
          "name": "stdout",
          "text": [
            "/root/tensorflow_datasets/leaf_classification\n"
          ]
        }
      ]
    },
    {
      "cell_type": "code",
      "source": [
        "# rm -r 1.0.0 1.0.1 2.0.0"
      ],
      "metadata": {
        "id": "O-gclfAgQh2D"
      },
      "execution_count": 178,
      "outputs": []
    },
    {
      "cell_type": "code",
      "source": [
        "import leaf_classification  # Register `my_dataset`\n",
        "\n",
        "ds, ds_info = tfds.load('leaf_classification:1.0.1', split='test_images', with_info=True)"
      ],
      "metadata": {
        "id": "RKYW8c3pQvF6"
      },
      "execution_count": 172,
      "outputs": []
    },
    {
      "cell_type": "code",
      "source": [
        "ds_info"
      ],
      "metadata": {
        "colab": {
          "base_uri": "https://localhost:8080/"
        },
        "id": "xkNAb14abI7J",
        "outputId": "bc0fe8a1-c548-44ed-bb23-3c6ee9ac446f"
      },
      "execution_count": 175,
      "outputs": [
        {
          "output_type": "execute_result",
          "data": {
            "text/plain": [
              "tfds.core.DatasetInfo(\n",
              "    name='leaf_classification',\n",
              "    full_name='leaf_classification/1.0.1',\n",
              "    description=\"\"\"\n",
              "    Description is **formatted** as markdown.\n",
              "    \n",
              "    It should also contain any processing which has been applied (if any),\n",
              "    (e.g. corrupted example skipped, images cropped,...):\n",
              "    \"\"\",\n",
              "    homepage='https://dataset-homepage/',\n",
              "    data_path='/root/tensorflow_datasets/leaf_classification/1.0.1',\n",
              "    file_format=tfrecord,\n",
              "    download_size=Unknown size,\n",
              "    dataset_size=2.60 MiB,\n",
              "    features=FeaturesDict({\n",
              "        'image': Image(shape=(224, 224, 3), dtype=tf.uint8),\n",
              "        'label': ClassLabel(shape=(), dtype=tf.int64, num_classes=15),\n",
              "    }),\n",
              "    supervised_keys=('image', 'label'),\n",
              "    disable_shuffling=False,\n",
              "    splits={\n",
              "        'test_images': <SplitInfo num_examples=100, num_shards=1>,\n",
              "    },\n",
              "    citation=\"\"\"\"\"\",\n",
              ")"
            ]
          },
          "metadata": {},
          "execution_count": 175
        }
      ]
    },
    {
      "cell_type": "code",
      "source": [
        "for data in ds:\n",
        "  print(data)\n",
        "  break"
      ],
      "metadata": {
        "colab": {
          "base_uri": "https://localhost:8080/"
        },
        "id": "YmUGSLQ5Q_A0",
        "outputId": "3dc18b9a-21be-4a50-c40d-074350783264"
      },
      "execution_count": 174,
      "outputs": [
        {
          "output_type": "stream",
          "name": "stdout",
          "text": [
            "{'image': <tf.Tensor: shape=(224, 224, 3), dtype=uint8, numpy=\n",
            "array([[[190, 189, 195],\n",
            "        [190, 189, 195],\n",
            "        [190, 189, 195],\n",
            "        ...,\n",
            "        [185, 188, 193],\n",
            "        [184, 187, 192],\n",
            "        [184, 187, 192]],\n",
            "\n",
            "       [[190, 189, 195],\n",
            "        [190, 189, 195],\n",
            "        [190, 189, 195],\n",
            "        ...,\n",
            "        [185, 188, 193],\n",
            "        [184, 187, 192],\n",
            "        [184, 187, 192]],\n",
            "\n",
            "       [[190, 189, 195],\n",
            "        [190, 189, 195],\n",
            "        [190, 189, 195],\n",
            "        ...,\n",
            "        [185, 188, 193],\n",
            "        [184, 187, 192],\n",
            "        [184, 187, 192]],\n",
            "\n",
            "       ...,\n",
            "\n",
            "       [[184, 183, 189],\n",
            "        [184, 183, 189],\n",
            "        [184, 183, 189],\n",
            "        ...,\n",
            "        [178, 182, 185],\n",
            "        [179, 183, 186],\n",
            "        [179, 183, 186]],\n",
            "\n",
            "       [[184, 183, 189],\n",
            "        [184, 183, 189],\n",
            "        [184, 183, 189],\n",
            "        ...,\n",
            "        [178, 182, 185],\n",
            "        [179, 182, 187],\n",
            "        [179, 182, 187]],\n",
            "\n",
            "       [[184, 183, 189],\n",
            "        [184, 183, 189],\n",
            "        [184, 183, 189],\n",
            "        ...,\n",
            "        [178, 182, 185],\n",
            "        [179, 182, 187],\n",
            "        [179, 182, 187]]], dtype=uint8)>, 'label': <tf.Tensor: shape=(), dtype=int64, numpy=0>}\n"
          ]
        }
      ]
    },
    {
      "cell_type": "code",
      "source": [
        "from pathlib import Path\n",
        "from collections import Counter\n",
        "\n",
        "path = Path('full')\n",
        "\n",
        "temp = Counter([os.path.basename(os.path.dirname(l)) for l in path.glob('*/*/*.*')])\n",
        "{k:v for (v,k) in enumerate(temp.keys())}"
      ],
      "metadata": {
        "colab": {
          "base_uri": "https://localhost:8080/"
        },
        "id": "mlDkenOS_xEc",
        "outputId": "842afa36-880a-4b77-fcef-e32a941464b1"
      },
      "execution_count": 81,
      "outputs": [
        {
          "output_type": "execute_result",
          "data": {
            "text/plain": [
              "{'croped_Calcarious soil symptoms': 0,\n",
              " 'croped_Caterpillar Damage': 1,\n",
              " 'croped_Mite infestation': 2,\n",
              " 'croped_Powdery mildew white background': 3,\n",
              " 'cropped_Anthracnose leaves white background': 4,\n",
              " 'cropped_Anthracnose natural background': 5,\n",
              " 'cropped_Downy mildew': 6,\n",
              " 'cropped_Jassid damage': 7,\n",
              " 'cropped_k deficiency white background': 8,\n",
              " 'cropped_Mealybug leaf malformation': 9,\n",
              " 'cropped_Powdery mildew natural background': 10,\n",
              " 'cropped_Thrips curling': 11,\n",
              " 'cropped_Zn toxicity': 12,\n",
              " 'Deficiency symptoms on grapes -Not identified': 13,\n",
              " 'Downy mildew photos': 14}"
            ]
          },
          "metadata": {},
          "execution_count": 81
        }
      ]
    },
    {
      "cell_type": "code",
      "source": [
        "[l for l in path.glob('*/*/*.*') if 'jpg' not in str(l) and 'JPG' not in str(l)]"
      ],
      "metadata": {
        "colab": {
          "base_uri": "https://localhost:8080/"
        },
        "id": "4ZJo6WLPE7JL",
        "outputId": "a7180311-2d66-428a-c685-9d8b73b9cda8"
      },
      "execution_count": 86,
      "outputs": [
        {
          "output_type": "execute_result",
          "data": {
            "text/plain": [
              "[PosixPath('full/leaf_cropped_images/Deficiency symptoms on grapes -Not identified/Thumbs.db')]"
            ]
          },
          "metadata": {},
          "execution_count": 86
        }
      ]
    },
    {
      "cell_type": "code",
      "source": [
        "cd .."
      ],
      "metadata": {
        "colab": {
          "base_uri": "https://localhost:8080/"
        },
        "id": "OASe8Z0aJ82H",
        "outputId": "5a97f579-a1a0-4497-b798-5cb8fd3f3566"
      },
      "execution_count": 90,
      "outputs": [
        {
          "output_type": "stream",
          "name": "stdout",
          "text": [
            "/content\n"
          ]
        }
      ]
    },
    {
      "cell_type": "code",
      "source": [
        "!cp -r '/content/full/leaf_cropped_images/cropped_k deficiency white background' '/content/full/test_images'"
      ],
      "metadata": {
        "colab": {
          "base_uri": "https://localhost:8080/"
        },
        "id": "DWEIcIDNL3DU",
        "outputId": "d1c07265-6fde-4d41-f6a6-8ffe3fee1ac8"
      },
      "execution_count": 91,
      "outputs": [
        {
          "output_type": "stream",
          "name": "stdout",
          "text": [
            "cp: cannot create regular file '/content/full/test_images/cropped_k deficiency white background/DSC_2144.JPG': File exists\n",
            "cp: cannot create regular file '/content/full/test_images/cropped_k deficiency white background/DSC_2172.JPG': File exists\n",
            "cp: cannot create regular file '/content/full/test_images/cropped_k deficiency white background/DSC_2198.JPG': File exists\n",
            "cp: cannot create regular file '/content/full/test_images/cropped_k deficiency white background/DSC_2201.JPG': File exists\n",
            "cp: cannot create regular file '/content/full/test_images/cropped_k deficiency white background/DSC_2258.JPG': File exists\n",
            "cp: cannot create regular file '/content/full/test_images/cropped_k deficiency white background/DSC_2268.JPG': File exists\n",
            "^C\n"
          ]
        }
      ]
    },
    {
      "cell_type": "code",
      "source": [
        "all_files = [p for p in os.listdir('/content/full/test_images/cropped_k deficiency white background') if 'resized' in p]"
      ],
      "metadata": {
        "id": "1do0rhRJL8cn"
      },
      "execution_count": 166,
      "outputs": []
    },
    {
      "cell_type": "code",
      "source": [
        "im_path = '/content/full/test_images/cropped_k deficiency white background/resized_DSC_2112.JPG'\n",
        "im = tf.keras.utils.load_img(str(im_path))"
      ],
      "metadata": {
        "colab": {
          "base_uri": "https://localhost:8080/"
        },
        "id": "hKYtLm7gcH9o",
        "outputId": "d0d60eb4-31f5-4717-d258-90d335972621"
      },
      "execution_count": 168,
      "outputs": [
        {
          "output_type": "execute_result",
          "data": {
            "text/plain": [
              "(3232, 3104)"
            ]
          },
          "metadata": {},
          "execution_count": 168
        }
      ]
    },
    {
      "cell_type": "code",
      "source": [
        "im = im.resize((224, 224), resample=3)\n",
        "im.size\n"
      ],
      "metadata": {
        "colab": {
          "base_uri": "https://localhost:8080/"
        },
        "id": "_pkJGG3HceDr",
        "outputId": "00c217fb-c175-421a-ce5b-beb686c3c08e"
      },
      "execution_count": 169,
      "outputs": [
        {
          "output_type": "execute_result",
          "data": {
            "text/plain": [
              "(224, 224)"
            ]
          },
          "metadata": {},
          "execution_count": 169
        }
      ]
    },
    {
      "cell_type": "code",
      "source": [
        "all_files"
      ],
      "metadata": {
        "colab": {
          "base_uri": "https://localhost:8080/"
        },
        "id": "enH_zmIRZP0f",
        "outputId": "f5f13cdd-b9cd-4950-c25e-d6312c28811a"
      },
      "execution_count": 167,
      "outputs": [
        {
          "output_type": "execute_result",
          "data": {
            "text/plain": [
              "['resized_DSC_2112.JPG',\n",
              " 'resized_DSC_2526.JPG',\n",
              " 'resized_DSC_2548.JPG',\n",
              " 'resized_DSC_2178.JPG',\n",
              " 'resized_DSC_1783.JPG',\n",
              " 'resized_DSC_2578.JPG',\n",
              " 'resized_DSC_2380.JPG',\n",
              " 'resized_DSC_1688.JPG',\n",
              " 'resized_DSC_1840.JPG',\n",
              " 'resized_DSC_2580.JPG',\n",
              " 'resized_DSC_2294.JPG',\n",
              " 'resized_DSC_2137.JPG',\n",
              " 'resized_DSC_2460.JPG',\n",
              " 'resized_DSC_2480.JPG',\n",
              " 'resized_DSC_2453.JPG',\n",
              " 'resized_DSC_2310.JPG',\n",
              " 'resized_DSC_2586.JPG',\n",
              " 'resized_DSC_2405.JPG',\n",
              " 'resized_DSC_1912.JPG',\n",
              " 'resized_DSC_2289.JPG',\n",
              " 'resized_DSC_2468.JPG',\n",
              " 'resized_DSC_2191.JPG',\n",
              " 'resized_DSC_1806.JPG',\n",
              " 'resized_DSC_2351.JPG',\n",
              " 'resized_DSC_1752.JPG',\n",
              " 'resized_DSC_1866.JPG',\n",
              " 'resized_DSC_2397.JPG',\n",
              " 'resized_DSC_2072.JPG',\n",
              " 'resized_DSC_2486.JPG',\n",
              " 'resized_DSC_2256.JPG',\n",
              " 'resized_DSC_2702.JPG',\n",
              " 'resized_DSC_2314.JPG',\n",
              " 'resized_DSC_2076.JPG',\n",
              " 'resized_DSC_2407.JPG',\n",
              " 'resized_DSC_1808.JPG',\n",
              " 'resized_DSC_2422.JPG',\n",
              " 'resized_DSC_2531.JPG',\n",
              " 'resized_DSC_2281.JPG',\n",
              " 'resized_DSC_2411.JPG',\n",
              " 'resized_DSC_1859.JPG',\n",
              " 'resized_DSC_2488.JPG',\n",
              " 'resized_DSC_2458.JPG',\n",
              " 'resized_DSC_2088.JPG',\n",
              " 'resized_DSC_2670.JPG',\n",
              " 'resized_DSC_2501.JPG',\n",
              " 'resized_DSC_2231.JPG',\n",
              " 'resized_DSC_2253.JPG',\n",
              " 'resized_DSC_2325.JPG',\n",
              " 'resized_DSC_1818.JPG',\n",
              " 'resized_DSC_2444.JPG',\n",
              " 'resized_DSC_2277.JPG',\n",
              " 'resized_DSC_2048.JPG',\n",
              " 'resized_DSC_1907.JPG',\n",
              " 'resized_DSC_2690.JPG',\n",
              " 'resized_DSC_2250.JPG',\n",
              " 'resized_DSC_1793.JPG',\n",
              " 'resized_DSC_1821.JPG',\n",
              " 'resized_DSC_2184.JPG',\n",
              " 'resized_DSC_2499.JPG',\n",
              " 'resized_DSC_2478.JPG',\n",
              " 'resized_DSC_2663.JPG',\n",
              " 'resized_DSC_1780.JPG',\n",
              " 'resized_DSC_2706.JPG',\n",
              " 'resized_DSC_2375.JPG',\n",
              " 'resized_DSC_2674.JPG',\n",
              " 'resized_DSC_1889.JPG',\n",
              " 'resized_DSC_1853.JPG',\n",
              " 'resized_DSC_2035.JPG',\n",
              " 'resized_DSC_2622.JPG',\n",
              " 'resized_DSC_1842.JPG',\n",
              " 'resized_DSC_2058.JPG',\n",
              " 'resized_DSC_1902.JPG',\n",
              " 'resized_DSC_2080.JPG',\n",
              " 'resized_DSC_2252.JPG',\n",
              " 'resized_DSC_1981.JPG',\n",
              " 'resized_DSC_1811.JPG',\n",
              " 'resized_DSC_2175.JPG',\n",
              " 'resized_DSC_2051.JPG',\n",
              " 'resized_DSC_2348.JPG',\n",
              " 'resized_DSC_2287.JPG',\n",
              " 'resized_DSC_2228.JPG',\n",
              " 'resized_DSC_1659.JPG',\n",
              " 'resized_DSC_2629.JPG',\n",
              " 'resized_resized_DSC_2526.JPG',\n",
              " 'resized_DSC_2038.JPG',\n",
              " 'resized_DSC_2648.JPG',\n",
              " 'resized_DSC_1814.JPG',\n",
              " 'resized_DSC_1692.JPG',\n",
              " 'resized_DSC_1696.JPG',\n",
              " 'resized_DSC_1922.JPG',\n",
              " 'resized_DSC_2251.JPG',\n",
              " 'resized_DSC_2323.JPG',\n",
              " 'resized_DSC_1807.JPG',\n",
              " 'resized_DSC_1765.JPG',\n",
              " 'resized_DSC_2211.JPG',\n",
              " 'resized_DSC_2200.JPG',\n",
              " 'resized_DSC_1658 - Copy.JPG',\n",
              " 'resized_DSC_1865.JPG',\n",
              " 'resized_DSC_1924.JPG',\n",
              " 'resized_DSC_2159.JPG']"
            ]
          },
          "metadata": {},
          "execution_count": 167
        }
      ]
    },
    {
      "cell_type": "code",
      "source": [
        "cd .."
      ],
      "metadata": {
        "colab": {
          "base_uri": "https://localhost:8080/"
        },
        "id": "yrZV9j8YT3X-",
        "outputId": "57db9c62-5e35-4dec-c4a6-7de04005ac81"
      },
      "execution_count": 136,
      "outputs": [
        {
          "output_type": "stream",
          "name": "stdout",
          "text": [
            "/content\n"
          ]
        }
      ]
    },
    {
      "cell_type": "code",
      "source": [
        "import tensorflow as tf\n",
        "img_path = Path('full/test_images/cropped_k deficiency white background/DSC_2622.JPG')\n",
        "im = tf.keras.utils.load_img(str(img_path))\n",
        "im.size"
      ],
      "metadata": {
        "colab": {
          "base_uri": "https://localhost:8080/"
        },
        "id": "7rzsl8ViMdrH",
        "outputId": "80816ca5-e71b-45ea-94b0-99dafc497942"
      },
      "execution_count": 139,
      "outputs": [
        {
          "output_type": "execute_result",
          "data": {
            "text/plain": [
              "(2664, 2616)"
            ]
          },
          "metadata": {},
          "execution_count": 139
        }
      ]
    },
    {
      "cell_type": "code",
      "source": [],
      "metadata": {
        "id": "KnarRvy5Tg9q"
      },
      "execution_count": null,
      "outputs": []
    }
  ]
}